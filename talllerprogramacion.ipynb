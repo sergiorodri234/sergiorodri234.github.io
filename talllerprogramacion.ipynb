{
  "nbformat": 4,
  "nbformat_minor": 0,
  "metadata": {
    "colab": {
      "name": "talllerprogramacion.ipynb",
      "provenance": [],
      "collapsed_sections": []
    },
    "kernelspec": {
      "name": "python3",
      "display_name": "Python 3"
    },
    "language_info": {
      "name": "python"
    }
  },
  "cells": [
    {
      "cell_type": "code",
      "execution_count": 1,
      "metadata": {
        "id": "YvnEX9-gYIkU"
      },
      "outputs": [],
      "source": [
        "from sympy import *"
      ]
    },
    {
      "cell_type": "code",
      "source": [
        "x = Symbol('x')\n",
        "y = Function('y')\n",
        "ec = Eq(x**2*y(x).diff(x,2) - 3*x*y(x).diff(x) + 6*y(x),0)"
      ],
      "metadata": {
        "id": "1USgdvymYPdy"
      },
      "execution_count": 3,
      "outputs": []
    },
    {
      "cell_type": "code",
      "source": [
        "ec"
      ],
      "metadata": {
        "colab": {
          "base_uri": "https://localhost:8080/",
          "height": 54
        },
        "id": "sLWwEdo5Zkvo",
        "outputId": "dd44dacf-aa99-44e8-f202-cc703955f193"
      },
      "execution_count": 4,
      "outputs": [
        {
          "output_type": "execute_result",
          "data": {
            "text/plain": [
              "Eq(x**2*Derivative(y(x), (x, 2)) - 3*x*Derivative(y(x), x) + 6*y(x), 0)"
            ],
            "text/latex": "$\\displaystyle x^{2} \\frac{d^{2}}{d x^{2}} y{\\left(x \\right)} - 3 x \\frac{d}{d x} y{\\left(x \\right)} + 6 y{\\left(x \\right)} = 0$"
          },
          "metadata": {},
          "execution_count": 4
        }
      ]
    },
    {
      "cell_type": "code",
      "source": [
        "print('Ejercicio a ')\n",
        "dsolve(ec)"
      ],
      "metadata": {
        "colab": {
          "base_uri": "https://localhost:8080/",
          "height": 57
        },
        "id": "gElIXjDMZpna",
        "outputId": "869f2383-8234-4fb4-9dec-aa84f68ba1d3"
      },
      "execution_count": 14,
      "outputs": [
        {
          "output_type": "stream",
          "name": "stdout",
          "text": [
            "Ejercicio a \n"
          ]
        },
        {
          "output_type": "execute_result",
          "data": {
            "text/plain": [
              "Eq(y(x), C2*exp(-2*x) + (C1 + 2*x)*exp(2*x))"
            ],
            "text/latex": "$\\displaystyle y{\\left(x \\right)} = C_{2} e^{- 2 x} + \\left(C_{1} + 2 x\\right) e^{2 x}$"
          },
          "metadata": {},
          "execution_count": 14
        }
      ]
    },
    {
      "cell_type": "code",
      "source": [
        "\n",
        "ec = Eq(x**2*y(x).diff(x,2) + 5*x*y(x).diff(x) + 4*y(x),0)"
      ],
      "metadata": {
        "id": "10jhUiVdZsfO"
      },
      "execution_count": 17,
      "outputs": []
    },
    {
      "cell_type": "code",
      "source": [
        "print('ejrcicio b')\n",
        "ec = Eq(x**2*y(x).diff(x,2) + 5*x*y(x).diff(x) + 4*y(x),0)\n",
        "dsolve(ec)"
      ],
      "metadata": {
        "colab": {
          "base_uri": "https://localhost:8080/",
          "height": 71
        },
        "id": "EYA3XbfUaG2W",
        "outputId": "3f112eac-9e3b-4656-cd98-bc364ac1a787"
      },
      "execution_count": 18,
      "outputs": [
        {
          "output_type": "stream",
          "name": "stdout",
          "text": [
            "ejrcicio b\n"
          ]
        },
        {
          "output_type": "execute_result",
          "data": {
            "text/plain": [
              "Eq(y(x), (C1 + C2*log(x))/x**2)"
            ],
            "text/latex": "$\\displaystyle y{\\left(x \\right)} = \\frac{C_{1} + C_{2} \\log{\\left(x \\right)}}{x^{2}}$"
          },
          "metadata": {},
          "execution_count": 18
        }
      ]
    },
    {
      "cell_type": "code",
      "source": [
        "ec = Eq(x**2*y(x).diff(x,2) + 9*x*y(x).diff(x) +17*y(x),0)\n",
        "print('Ejercicio C')\n",
        "dsolve(ec)"
      ],
      "metadata": {
        "colab": {
          "base_uri": "https://localhost:8080/",
          "height": 71
        },
        "id": "u8U80eecaQH6",
        "outputId": "8f6045ca-e53c-48fd-df38-e800a1017e72"
      },
      "execution_count": 19,
      "outputs": [
        {
          "output_type": "stream",
          "name": "stdout",
          "text": [
            "Ejercicio C\n"
          ]
        },
        {
          "output_type": "execute_result",
          "data": {
            "text/plain": [
              "Eq(y(x), (C1*sin(log(x)) + C2*cos(log(x)))/x**4)"
            ],
            "text/latex": "$\\displaystyle y{\\left(x \\right)} = \\frac{C_{1} \\sin{\\left(\\log{\\left(x \\right)} \\right)} + C_{2} \\cos{\\left(\\log{\\left(x \\right)} \\right)}}{x^{4}}$"
          },
          "metadata": {},
          "execution_count": 19
        }
      ]
    },
    {
      "cell_type": "code",
      "source": [
        "print('Ejercicio d')\n",
        "ec = Eq(y(x).diff(x,2) - 4*y(x),8*exp(2*x))\n",
        "ec"
      ],
      "metadata": {
        "colab": {
          "base_uri": "https://localhost:8080/",
          "height": 72
        },
        "id": "NkI8BrpKcBOI",
        "outputId": "b02d4ed7-c513-4524-83f0-be1e5f6fe762"
      },
      "execution_count": 21,
      "outputs": [
        {
          "output_type": "stream",
          "name": "stdout",
          "text": [
            "Ejercicio d\n"
          ]
        },
        {
          "output_type": "execute_result",
          "data": {
            "text/plain": [
              "Eq(-4*y(x) + Derivative(y(x), (x, 2)), 8*exp(2*x))"
            ],
            "text/latex": "$\\displaystyle - 4 y{\\left(x \\right)} + \\frac{d^{2}}{d x^{2}} y{\\left(x \\right)} = 8 e^{2 x}$"
          },
          "metadata": {},
          "execution_count": 21
        }
      ]
    },
    {
      "cell_type": "code",
      "source": [
        "dsolve(ec)"
      ],
      "metadata": {
        "colab": {
          "base_uri": "https://localhost:8080/",
          "height": 38
        },
        "id": "f5HE_XuzctEn",
        "outputId": "070195c4-1b87-416f-a751-d80c5f01b377"
      },
      "execution_count": 13,
      "outputs": [
        {
          "output_type": "execute_result",
          "data": {
            "text/plain": [
              "Eq(y(x), C2*exp(-2*x) + (C1 + 2*x)*exp(2*x))"
            ],
            "text/latex": "$\\displaystyle y{\\left(x \\right)} = C_{2} e^{- 2 x} + \\left(C_{1} + 2 x\\right) e^{2 x}$"
          },
          "metadata": {},
          "execution_count": 13
        }
      ]
    },
    {
      "cell_type": "code",
      "source": [
        "print(' Ejercicio e ')\n",
        "ec = Eq(y(x).diff(x,2)-4*y(x).diff(x)+ 4*y(x),exp(-2*x))\n",
        "dsolve(ec)"
      ],
      "metadata": {
        "colab": {
          "base_uri": "https://localhost:8080/",
          "height": 72
        },
        "id": "7HroUgLic2Xw",
        "outputId": "4b37e63b-1d1f-4a68-9c6b-ddbc84812d87"
      },
      "execution_count": 26,
      "outputs": [
        {
          "output_type": "stream",
          "name": "stdout",
          "text": [
            " Ejercicio e \n"
          ]
        },
        {
          "output_type": "execute_result",
          "data": {
            "text/plain": [
              "Eq(y(x), (C1 + C2*x)*exp(2*x) + exp(-2*x)/16)"
            ],
            "text/latex": "$\\displaystyle y{\\left(x \\right)} = \\left(C_{1} + C_{2} x\\right) e^{2 x} + \\frac{e^{- 2 x}}{16}$"
          },
          "metadata": {},
          "execution_count": 26
        }
      ]
    },
    {
      "cell_type": "code",
      "source": [
        ""
      ],
      "metadata": {
        "id": "hQJ33ZFrfa8I"
      },
      "execution_count": null,
      "outputs": []
    }
  ]
}