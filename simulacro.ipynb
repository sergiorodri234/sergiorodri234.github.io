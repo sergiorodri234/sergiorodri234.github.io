{
  "nbformat": 4,
  "nbformat_minor": 0,
  "metadata": {
    "colab": {
      "name": "simulacro.ipynb",
      "provenance": []
    },
    "kernelspec": {
      "name": "python3",
      "display_name": "Python 3"
    },
    "language_info": {
      "name": "python"
    }
  },
  "cells": [
    {
      "cell_type": "markdown",
      "source": [
        "# Simulacro parcial"
      ],
      "metadata": {
        "id": "jDeXgPAldjM3"
      }
    },
    {
      "cell_type": "markdown",
      "source": [
        "Este ejercicio tiene como objetivo realizar una preparación punto a punto de lo que se evaluará en el parcial del espacio académico Machine Learning para Economistas. El orden a seguir para cumplir satisfactoriamente con los requerimientos es el siguiente:\n",
        "\n",
        "1. Importación de librerías\n",
        "2. Exploración inicial de los datos\n",
        "3. Preparación de los datos\n",
        "4. Limpieza de los datos\n",
        "5. Visualización de los datos\n",
        "6. Reducción de dimensionalidad\n",
        "7. Agrupamiento\n",
        "8. Algoritmos de clasificación\n",
        "9. Evaluación del modelo"
      ],
      "metadata": {
        "id": "pJ9R6SbEgUsp"
      }
    },
    {
      "cell_type": "markdown",
      "source": [
        "##Importación de librerías\n",
        "\n",
        "Importe todas y cada una de las librerías que considere necesarias para el desarrollo del simulacro, recuerde que está es la única sección donde deben aparecer."
      ],
      "metadata": {
        "id": "le_5j1JTdAvU"
      }
    },
    {
      "cell_type": "code",
      "execution_count": null,
      "metadata": {
        "id": "9ho2gw2Ic_Hn"
      },
      "outputs": [],
      "source": [
        ""
      ]
    },
    {
      "cell_type": "markdown",
      "source": [
        "### Importación de los datos\n",
        "\n",
        "Cargue los datos en esta sección."
      ],
      "metadata": {
        "id": "gINt1M9Xg6AT"
      }
    },
    {
      "cell_type": "code",
      "source": [
        ""
      ],
      "metadata": {
        "id": "Huq6GH5Og9-H"
      },
      "execution_count": null,
      "outputs": []
    },
    {
      "cell_type": "markdown",
      "source": [
        "## Exploración inicial de los datos\n",
        "\n",
        "Realice una visualización de los datos a nivel general donde pueda observar información inicial relevante que le permita encontrar problemas sobre los que puede trabajar en la siguiente sección."
      ],
      "metadata": {
        "id": "863enJ1NdCL4"
      }
    },
    {
      "cell_type": "code",
      "source": [
        ""
      ],
      "metadata": {
        "id": "FLTSR11adFv9"
      },
      "execution_count": null,
      "outputs": []
    },
    {
      "cell_type": "markdown",
      "source": [
        "## Limpieza de los datos\n",
        "\n",
        "Identifique datos faltantes, duplicados implícitos, duplicados explícitos o outliers."
      ],
      "metadata": {
        "id": "0ZCjyYx2dKZz"
      }
    },
    {
      "cell_type": "code",
      "source": [
        ""
      ],
      "metadata": {
        "id": "Y0abo8MzdSij"
      },
      "execution_count": null,
      "outputs": []
    },
    {
      "cell_type": "markdown",
      "source": [
        "## Descripción y Visualización de datos\n",
        "\n",
        "1. Realice un análisis estadístico descriptivo de los datos\n",
        "2. Realice visualizaciones teniendo en cuenta el tipo de dato y el objetivo de la visualización (análisis univariado, bivariado o multivariado)"
      ],
      "metadata": {
        "id": "wdna53-cdNUa"
      }
    },
    {
      "cell_type": "code",
      "source": [
        ""
      ],
      "metadata": {
        "id": "G2-X2ZZydS3l"
      },
      "execution_count": null,
      "outputs": []
    },
    {
      "cell_type": "markdown",
      "source": [
        "## Reducción de dimensionalidad\n",
        "\n",
        "Aplique un algoritmo de reducción de dimensionalidad que le permita alcanzar la mayor cantidad de varianza en el menor número de variables posibles."
      ],
      "metadata": {
        "id": "CQd_SE-4dRvl"
      }
    },
    {
      "cell_type": "code",
      "source": [
        ""
      ],
      "metadata": {
        "id": "Xu9aXuZpdlTX"
      },
      "execution_count": null,
      "outputs": []
    },
    {
      "cell_type": "markdown",
      "source": [
        "## Agrupamiento\n",
        "\n",
        "Encuentre el número de clústers que minimizaría el índice Davies-Bouldin e implementelo. Conserve los labels."
      ],
      "metadata": {
        "id": "oGNNGUfZdX01"
      }
    },
    {
      "cell_type": "code",
      "source": [
        ""
      ],
      "metadata": {
        "id": "fzmTiwqJdlmy"
      },
      "execution_count": null,
      "outputs": []
    },
    {
      "cell_type": "markdown",
      "source": [
        "## Algoritmos de clasificación\n",
        "\n",
        "Con los labels como vector de respuesta, implemente algoritmos de clasificación que permita predecir el cluster al cual pertenece cada registro. Puede probar varios y llevar a cabo optimización de hiperparámetros para escoger el mejor."
      ],
      "metadata": {
        "id": "NAWRNSWUdZav"
      }
    },
    {
      "cell_type": "code",
      "source": [
        ""
      ],
      "metadata": {
        "id": "Ww4HoZslij8I"
      },
      "execution_count": null,
      "outputs": []
    },
    {
      "cell_type": "markdown",
      "source": [
        "## Evaluación del modelo\n",
        "\n",
        "Cree una función que agrupe limpieza de los datos y modelo. "
      ],
      "metadata": {
        "id": "lZdrl3KAfBpL"
      }
    },
    {
      "cell_type": "code",
      "source": [
        ""
      ],
      "metadata": {
        "id": "p-aV2y8ki0Na"
      },
      "execution_count": null,
      "outputs": []
    }
  ]
}